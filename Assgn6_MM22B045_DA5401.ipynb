{
 "cells": [
  {
   "cell_type": "markdown",
   "id": "7a65c85e",
   "metadata": {},
   "source": [
    "\n",
    "# DA5401 A6 — Imputation via Regression for Missing Data\n",
    "\n",
    "**Swara Patil - MM22B045** \n",
    "\n",
    "---\n",
    "\n",
    "### Objective\n",
    "We'll explore different strategies to handle **missing data** in the **UCI Credit Card Default dataset**:\n",
    "1. Simple Imputation  \n",
    "2. Linear Regression Imputation  \n",
    "3. KNN (Non-linear) Regression Imputation  \n",
    "4. Listwise Deletion  \n",
    "\n",
    "Then, we'll evaluate how each method affects classification performance using **Logistic Regression**.\n",
    "\n",
    "---\n"
   ]
  },
  {
   "cell_type": "code",
   "execution_count": 50,
   "id": "b4153129",
   "metadata": {},
   "outputs": [],
   "source": [
    "import numpy as np\n",
    "import pandas as pd\n",
    "import matplotlib.pyplot as plt\n",
    "import seaborn as sns\n",
    "\n",
    "from sklearn.model_selection import train_test_split\n",
    "from sklearn.impute import SimpleImputer\n",
    "from sklearn.linear_model import LinearRegression, LogisticRegression\n",
    "from sklearn.neighbors import KNeighborsRegressor\n",
    "from sklearn.preprocessing import StandardScaler\n",
    "from sklearn.metrics import classification_report, accuracy_score, precision_score, recall_score, f1_score\n"
   ]
  },
  {
   "cell_type": "markdown",
   "id": "fd606391",
   "metadata": {},
   "source": [
    "## 1️ Loading Dataset"
   ]
  },
  {
   "cell_type": "code",
   "execution_count": 60,
   "id": "ff4b78c2",
   "metadata": {},
   "outputs": [
    {
     "name": "stdout",
     "output_type": "stream",
     "text": [
      "\n",
      "Data shape: (30000, 25)\n"
     ]
    },
    {
     "data": {
      "text/html": [
       "<div>\n",
       "<style scoped>\n",
       "    .dataframe tbody tr th:only-of-type {\n",
       "        vertical-align: middle;\n",
       "    }\n",
       "\n",
       "    .dataframe tbody tr th {\n",
       "        vertical-align: top;\n",
       "    }\n",
       "\n",
       "    .dataframe thead th {\n",
       "        text-align: right;\n",
       "    }\n",
       "</style>\n",
       "<table border=\"1\" class=\"dataframe\">\n",
       "  <thead>\n",
       "    <tr style=\"text-align: right;\">\n",
       "      <th></th>\n",
       "      <th>ID</th>\n",
       "      <th>LIMIT_BAL</th>\n",
       "      <th>SEX</th>\n",
       "      <th>EDUCATION</th>\n",
       "      <th>MARRIAGE</th>\n",
       "      <th>AGE</th>\n",
       "      <th>PAY_0</th>\n",
       "      <th>PAY_2</th>\n",
       "      <th>PAY_3</th>\n",
       "      <th>PAY_4</th>\n",
       "      <th>PAY_5</th>\n",
       "      <th>PAY_6</th>\n",
       "      <th>BILL_AMT1</th>\n",
       "      <th>BILL_AMT2</th>\n",
       "      <th>BILL_AMT3</th>\n",
       "      <th>BILL_AMT4</th>\n",
       "      <th>BILL_AMT5</th>\n",
       "      <th>BILL_AMT6</th>\n",
       "      <th>PAY_AMT1</th>\n",
       "      <th>PAY_AMT2</th>\n",
       "      <th>PAY_AMT3</th>\n",
       "      <th>PAY_AMT4</th>\n",
       "      <th>PAY_AMT5</th>\n",
       "      <th>PAY_AMT6</th>\n",
       "      <th>default.payment.next.month</th>\n",
       "    </tr>\n",
       "  </thead>\n",
       "  <tbody>\n",
       "    <tr>\n",
       "      <th>0</th>\n",
       "      <td>1</td>\n",
       "      <td>20000.0</td>\n",
       "      <td>2</td>\n",
       "      <td>2</td>\n",
       "      <td>1</td>\n",
       "      <td>24</td>\n",
       "      <td>2</td>\n",
       "      <td>2</td>\n",
       "      <td>-1</td>\n",
       "      <td>-1</td>\n",
       "      <td>-2</td>\n",
       "      <td>-2</td>\n",
       "      <td>3913.0</td>\n",
       "      <td>3102.0</td>\n",
       "      <td>689.0</td>\n",
       "      <td>0.0</td>\n",
       "      <td>0.0</td>\n",
       "      <td>0.0</td>\n",
       "      <td>0.0</td>\n",
       "      <td>689.0</td>\n",
       "      <td>0.0</td>\n",
       "      <td>0.0</td>\n",
       "      <td>0.0</td>\n",
       "      <td>0.0</td>\n",
       "      <td>1</td>\n",
       "    </tr>\n",
       "  </tbody>\n",
       "</table>\n",
       "</div>"
      ],
      "text/plain": [
       "   ID  LIMIT_BAL  SEX  EDUCATION  MARRIAGE  AGE  PAY_0  PAY_2  PAY_3  PAY_4  \\\n",
       "0   1    20000.0    2          2         1   24      2      2     -1     -1   \n",
       "\n",
       "   PAY_5  PAY_6  BILL_AMT1  BILL_AMT2  BILL_AMT3  BILL_AMT4  BILL_AMT5  \\\n",
       "0     -2     -2     3913.0     3102.0      689.0        0.0        0.0   \n",
       "\n",
       "   BILL_AMT6  PAY_AMT1  PAY_AMT2  PAY_AMT3  PAY_AMT4  PAY_AMT5  PAY_AMT6  \\\n",
       "0        0.0       0.0     689.0       0.0       0.0       0.0       0.0   \n",
       "\n",
       "   default.payment.next.month  \n",
       "0                           1  "
      ]
     },
     "execution_count": 60,
     "metadata": {},
     "output_type": "execute_result"
    }
   ],
   "source": [
    "DATA_PATH = 'UCI_Credit_Card.csv'\n",
    "\n",
    "df = pd.read_csv(DATA_PATH)\n",
    "print('\\nData shape:', df.shape)\n",
    "df.head(1)"
   ]
  },
  {
   "cell_type": "markdown",
   "id": "1bd3e921",
   "metadata": {},
   "source": [
    "\n",
    "### Data Cleaning\n",
    "We'll remove the `ID` column (it's just an identifier and doesn't carry predictive information).\n"
   ]
  },
  {
   "cell_type": "code",
   "execution_count": 61,
   "id": "795690d0",
   "metadata": {},
   "outputs": [
    {
     "name": "stdout",
     "output_type": "stream",
     "text": [
      "Shape after dropping ID: (30000, 24)\n"
     ]
    }
   ],
   "source": [
    "df = df.drop(columns=['ID'], errors='ignore')\n",
    "print('Shape after dropping ID:', df.shape)"
   ]
  },
  {
   "cell_type": "code",
   "execution_count": 62,
   "id": "006f50ea-c8f3-44ee-a22f-bc1f7a08848b",
   "metadata": {},
   "outputs": [
    {
     "data": {
      "text/plain": [
       "LIMIT_BAL                     0\n",
       "SEX                           0\n",
       "EDUCATION                     0\n",
       "MARRIAGE                      0\n",
       "AGE                           0\n",
       "PAY_0                         0\n",
       "PAY_2                         0\n",
       "PAY_3                         0\n",
       "PAY_4                         0\n",
       "PAY_5                         0\n",
       "PAY_6                         0\n",
       "BILL_AMT1                     0\n",
       "BILL_AMT2                     0\n",
       "BILL_AMT3                     0\n",
       "BILL_AMT4                     0\n",
       "BILL_AMT5                     0\n",
       "BILL_AMT6                     0\n",
       "PAY_AMT1                      0\n",
       "PAY_AMT2                      0\n",
       "PAY_AMT3                      0\n",
       "PAY_AMT4                      0\n",
       "PAY_AMT5                      0\n",
       "PAY_AMT6                      0\n",
       "default.payment.next.month    0\n",
       "dtype: int64"
      ]
     },
     "execution_count": 62,
     "metadata": {},
     "output_type": "execute_result"
    }
   ],
   "source": [
    "df.isna().sum()"
   ]
  },
  {
   "cell_type": "markdown",
   "id": "93748348",
   "metadata": {},
   "source": [
    "\n",
    "## 2️ Introducing Missing Values (MAR)\n",
    "We’ll artificially introduce 7% missing values into:\n",
    "- `AGE`\n",
    "- `BILL_AMT1`\n",
    "- `PAY_AMT1`\n",
    "\n",
    "This simulates a real-world missing-at-random (MAR) situation.\n"
   ]
  },
  {
   "cell_type": "code",
   "execution_count": 54,
   "id": "5854aa3c",
   "metadata": {},
   "outputs": [
    {
     "data": {
      "text/plain": [
       "AGE          2105\n",
       "BILL_AMT1    2095\n",
       "PAY_AMT1     2092\n",
       "dtype: int64"
      ]
     },
     "execution_count": 54,
     "metadata": {},
     "output_type": "execute_result"
    }
   ],
   "source": [
    "rng = np.random.RandomState(42)\n",
    "missing_frac = 0.07\n",
    "cols_to_miss = ['AGE', 'BILL_AMT1', 'PAY_AMT1']\n",
    "\n",
    "for c in cols_to_miss:\n",
    "    mask = rng.rand(len(df)) < missing_frac\n",
    "    df.loc[mask, c] = np.nan\n",
    "\n",
    "df[cols_to_miss].isna().sum()"
   ]
  },
  {
   "cell_type": "code",
   "execution_count": 55,
   "id": "17799630",
   "metadata": {},
   "outputs": [
    {
     "name": "stderr",
     "output_type": "stream",
     "text": [
      "/home/swara/jupyter_env/lib/python3.12/site-packages/IPython/core/pylabtools.py:170: UserWarning: Glyph 128270 (\\N{RIGHT-POINTING MAGNIFYING GLASS}) missing from font(s) DejaVu Sans.\n",
      "  fig.canvas.print_figure(bytes_io, **kw)\n"
     ]
    },
    {
     "data": {
      "image/png": "[encoded data removed]",
      "text/plain": [
       "<Figure size 800x550 with 1 Axes>"
      ]
     },
     "metadata": {},
     "output_type": "display_data"
    }
   ],
   "source": [
    "sns.heatmap(df[cols_to_miss].isna(), cbar=False, cmap='Reds')\n",
    "plt.title(\"🔎 Missing Values Overview\")\n",
    "plt.show()"
   ]
  },
  {
   "cell_type": "markdown",
   "id": "92b79aab",
   "metadata": {},
   "source": [
    "\n",
    "## 3️ Part A — Imputation Strategies\n",
    "We'll create four versions of the dataset:\n",
    "\n",
    "| Dataset | Strategy | Description |\n",
    "|----------|-----------|-------------|\n",
    "| **A** | Median Imputation | Simple baseline |\n",
    "| **B** | Linear Regression | Predict missing using linear relations |\n",
    "| **C** | KNN Regression | Capture non-linear patterns |\n",
    "| **D** | Listwise Deletion | Remove all missing rows |\n",
    "\n",
    "Let's start with **Dataset A**.\n"
   ]
  },
  {
   "cell_type": "markdown",
   "id": "5cfb77eb",
   "metadata": {},
   "source": [
    "### Dataset A — Simple Imputation"
   ]
  },
  {
   "cell_type": "code",
   "execution_count": 34,
   "id": "ae9849cd",
   "metadata": {},
   "outputs": [
    {
     "name": "stdout",
     "output_type": "stream",
     "text": [
      "Remaining NaNs in A: 0\n"
     ]
    }
   ],
   "source": [
    "A = df.copy()\n",
    "median_imputer = SimpleImputer(strategy='median')\n",
    "num_cols = A.select_dtypes(include=[np.number]).columns\n",
    "A[num_cols] = median_imputer.fit_transform(A[num_cols])\n",
    "print(\"Remaining NaNs in A:\", A.isna().sum().sum())"
   ]
  },
  {
   "cell_type": "markdown",
   "id": "20435a0e-6767-4db7-b9f2-d972730e014f",
   "metadata": {},
   "source": [
    "### Why Median is Often Preferred Over Mean for Imputation\n",
    "\n",
    "The median is often preferred over the mean when filling missing values because it is **less affected by outliers**. Extreme values can skew the mean, making it less representative of the typical data point, while the median gives a value that better reflects the center of the data. "
   ]
  },
  {
   "cell_type": "markdown",
   "id": "b10d7e67-9a2b-40a7-9992-bc9f4f522ced",
   "metadata": {},
   "source": [
    "## For Datasets B and C,\n",
    "\n",
    "The assignment requires us to apply regression imputation to **only one column**. In our case, we use regression models to predict **AGE**, while the other columns with missing values (**BILL_AMT1** and **PAY_AMT1**) are filled using their **median values**.  \n",
    "\n",
    "For Datasets B and C, we use **median imputation for the other two columns** rather than the original fully filled values. This keeps the comparison **fair**, because if we used the original filled values, imputation in B and C would only affect one column, whereas in Dataset A, imputation is applied to all three columns. Using the median for the remaining columns ensures consistency in how missing values are handled across all datasets.\n"
   ]
  },
  {
   "cell_type": "markdown",
   "id": "6031c7d0",
   "metadata": {},
   "source": [
    "### Dataset B — Linear Regression Imputation (on `AGE`)"
   ]
  },
  {
   "cell_type": "code",
   "execution_count": 35,
   "id": "07a86fc9",
   "metadata": {},
   "outputs": [
    {
     "name": "stdout",
     "output_type": "stream",
     "text": [
      "Remaining NaNs in B: 0\n"
     ]
    }
   ],
   "source": [
    "B = df.copy()\n",
    "target = 'AGE'\n",
    "reg_cols = [c for c in B.select_dtypes(include=[np.number]).columns if c != target and c != 'default.payment.next.month']\n",
    "\n",
    "# fill other cols with median\n",
    "for c in ['BILL_AMT1', 'PAY_AMT1']:\n",
    "    if c in B.columns:\n",
    "        B[c] = B[c].fillna(B[c].median())\n",
    "\n",
    "# linear regression\n",
    "train_mask = B[target].notna()\n",
    "X_train = B.loc[train_mask, reg_cols]\n",
    "y_train = B.loc[train_mask, target]\n",
    "\n",
    "X_train = pd.DataFrame(SimpleImputer(strategy='median').fit_transform(X_train),\n",
    "                       columns=reg_cols, index=X_train.index)\n",
    "\n",
    "lr = LinearRegression()\n",
    "lr.fit(X_train, y_train)\n",
    "\n",
    "missing_mask = B[target].isna()\n",
    "X_missing = B.loc[missing_mask, reg_cols]\n",
    "X_missing = pd.DataFrame(SimpleImputer(strategy='median').fit_transform(X_missing),\n",
    "                         columns=reg_cols, index=X_missing.index)\n",
    "\n",
    "B.loc[missing_mask, target] = lr.predict(X_missing)\n",
    "\n",
    "print(\"Remaining NaNs in B:\", B.isna().sum().sum())\n"
   ]
  },
  {
   "cell_type": "markdown",
   "id": "2f09442c-af6e-45f5-9f66-245c6714374c",
   "metadata": {},
   "source": [
    "### Underlying Assumption of Regression Imputation\n",
    "\n",
    "Regression imputation assumes that the missing values in a column are **Missing At Random (MAR)**. This means that the likelihood of a value being missing depends only on the **other observed features**, and not on the missing values themselves. Means, we assume that the missing entries can be reasonably predicted using the relationships with other columns in the dataset. This allows a regression model to estimate the missing values based on patterns present in the available data, making the imputed values consistent with the overall dataset.\n"
   ]
  },
  {
   "cell_type": "markdown",
   "id": "a996b402",
   "metadata": {},
   "source": [
    "### Dataset C — Non-linear Regression Imputation (KNN)"
   ]
  },
  {
   "cell_type": "code",
   "execution_count": 36,
   "id": "a955bb80",
   "metadata": {},
   "outputs": [
    {
     "name": "stdout",
     "output_type": "stream",
     "text": [
      "Remaining NaNs in C: 0\n"
     ]
    }
   ],
   "source": [
    "C = df.copy()\n",
    "target = 'AGE'\n",
    "reg_cols = [c for c in C.select_dtypes(include=[np.number]).columns if c not in [target, 'default.payment.next.month']]\n",
    "\n",
    "# Fill other col using median\n",
    "for c in ['BILL_AMT1', 'PAY_AMT1']:\n",
    "    if c in C.columns:\n",
    "        C[c] = C[c].fillna(C[c].median())\n",
    "\n",
    "# KNN regressor\n",
    "train_mask = C[target].notna()\n",
    "X_train = C.loc[train_mask, reg_cols]\n",
    "y_train = C.loc[train_mask, target]\n",
    "\n",
    "X_train = pd.DataFrame(SimpleImputer(strategy='median').fit_transform(X_train),\n",
    "                       columns=reg_cols, index=X_train.index)\n",
    "\n",
    "knn = KNeighborsRegressor(n_neighbors=5)\n",
    "knn.fit(X_train, y_train)\n",
    "\n",
    "missing_mask = C[target].isna()\n",
    "if missing_mask.any():\n",
    "    X_missing = C.loc[missing_mask, reg_cols]\n",
    "    X_missing = pd.DataFrame(SimpleImputer(strategy='median').fit_transform(X_missing),\n",
    "                             columns=reg_cols, index=X_missing.index)\n",
    "    C.loc[missing_mask, target] = knn.predict(X_missing)\n",
    "\n",
    "print(\"Remaining NaNs in C:\", C.isna().sum().sum())\n"
   ]
  },
  {
   "cell_type": "markdown",
   "id": "3244d93f",
   "metadata": {},
   "source": [
    "### Dataset D — Listwise Deletion"
   ]
  },
  {
   "cell_type": "code",
   "execution_count": 37,
   "id": "0e594310",
   "metadata": {},
   "outputs": [
    {
     "name": "stdout",
     "output_type": "stream",
     "text": [
      "Original shape: (30000, 24) | After listwise deletion: (24147, 24)\n"
     ]
    }
   ],
   "source": [
    "D = df.dropna().copy()\n",
    "print(\"Original shape:\", df.shape, \"| After listwise deletion:\", D.shape)"
   ]
  },
  {
   "cell_type": "markdown",
   "id": "45059cfa",
   "metadata": {},
   "source": [
    "\n",
    "## 4️ Part B — Model Training & Evaluation\n",
    "We’ll train a **Logistic Regression** classifier on each dataset (A, B, C, D).  \n",
    "We'll compare **Accuracy**, **Precision**, **Recall**, and **F1-score**.\n"
   ]
  },
  {
   "cell_type": "code",
   "execution_count": 38,
   "id": "c4e36616",
   "metadata": {},
   "outputs": [
    {
     "name": "stdout",
     "output_type": "stream",
     "text": [
      "{'Dataset': 'A_Median', 'Accuracy': 0.8094666666666667, 'Precision': 0.7053571428571429, 'Recall': 0.23809523809523808, 'F1': 0.35601622352410994}\n",
      "{'Dataset': 'B_Linear', 'Accuracy': 0.8094666666666667, 'Precision': 0.7039007092198581, 'Recall': 0.23930078360458107, 'F1': 0.3571749887539361}\n",
      "{'Dataset': 'C_KNN', 'Accuracy': 0.8097333333333333, 'Precision': 0.7064056939501779, 'Recall': 0.23930078360458107, 'F1': 0.3574966231427285}\n",
      "{'Dataset': 'D_Listwise', 'Accuracy': 0.8071890011595163, 'Precision': 0.7089552238805971, 'Recall': 0.21396396396396397, 'F1': 0.328719723183391}\n"
     ]
    },
    {
     "data": {
      "text/html": [
       "<div>\n",
       "<style scoped>\n",
       "    .dataframe tbody tr th:only-of-type {\n",
       "        vertical-align: middle;\n",
       "    }\n",
       "\n",
       "    .dataframe tbody tr th {\n",
       "        vertical-align: top;\n",
       "    }\n",
       "\n",
       "    .dataframe thead th {\n",
       "        text-align: right;\n",
       "    }\n",
       "</style>\n",
       "<table border=\"1\" class=\"dataframe\">\n",
       "  <thead>\n",
       "    <tr style=\"text-align: right;\">\n",
       "      <th></th>\n",
       "      <th>Dataset</th>\n",
       "      <th>Accuracy</th>\n",
       "      <th>Precision</th>\n",
       "      <th>Recall</th>\n",
       "      <th>F1</th>\n",
       "    </tr>\n",
       "  </thead>\n",
       "  <tbody>\n",
       "    <tr>\n",
       "      <th>0</th>\n",
       "      <td>A_Median</td>\n",
       "      <td>0.809467</td>\n",
       "      <td>0.705357</td>\n",
       "      <td>0.238095</td>\n",
       "      <td>0.356016</td>\n",
       "    </tr>\n",
       "    <tr>\n",
       "      <th>1</th>\n",
       "      <td>B_Linear</td>\n",
       "      <td>0.809467</td>\n",
       "      <td>0.703901</td>\n",
       "      <td>0.239301</td>\n",
       "      <td>0.357175</td>\n",
       "    </tr>\n",
       "    <tr>\n",
       "      <th>2</th>\n",
       "      <td>C_KNN</td>\n",
       "      <td>0.809733</td>\n",
       "      <td>0.706406</td>\n",
       "      <td>0.239301</td>\n",
       "      <td>0.357497</td>\n",
       "    </tr>\n",
       "    <tr>\n",
       "      <th>3</th>\n",
       "      <td>D_Listwise</td>\n",
       "      <td>0.807189</td>\n",
       "      <td>0.708955</td>\n",
       "      <td>0.213964</td>\n",
       "      <td>0.328720</td>\n",
       "    </tr>\n",
       "  </tbody>\n",
       "</table>\n",
       "</div>"
      ],
      "text/plain": [
       "      Dataset  Accuracy  Precision    Recall        F1\n",
       "0    A_Median  0.809467   0.705357  0.238095  0.356016\n",
       "1    B_Linear  0.809467   0.703901  0.239301  0.357175\n",
       "2       C_KNN  0.809733   0.706406  0.239301  0.357497\n",
       "3  D_Listwise  0.807189   0.708955  0.213964  0.328720"
      ]
     },
     "execution_count": 38,
     "metadata": {},
     "output_type": "execute_result"
    }
   ],
   "source": [
    "def train_and_evaluate(df, name):\n",
    "    target_col = 'default.payment.next.month'\n",
    "    X = df.drop(columns=[target_col])\n",
    "    y = df[target_col]\n",
    "\n",
    "    scaler = StandardScaler()\n",
    "    X_scaled = scaler.fit_transform(X)\n",
    "\n",
    "    X_train, X_test, y_train, y_test = train_test_split(\n",
    "        X_scaled, y, test_size=0.25, random_state=42, stratify=y\n",
    "    )\n",
    "\n",
    "    model = LogisticRegression(max_iter=1000)\n",
    "    model.fit(X_train, y_train)\n",
    "    y_pred = model.predict(X_test)\n",
    "\n",
    "    metrics = {\n",
    "        'Dataset': name,\n",
    "        'Accuracy': accuracy_score(y_test, y_pred),\n",
    "        'Precision': precision_score(y_test, y_pred),\n",
    "        'Recall': recall_score(y_test, y_pred),\n",
    "        'F1': f1_score(y_test, y_pred)\n",
    "    }\n",
    "    return metrics\n",
    "\n",
    "results = []\n",
    "for name, data in zip(['A_Median', 'B_Linear', 'C_KNN', 'D_Listwise'], [A,B,C,D]):\n",
    "    metrics = train_and_evaluate(data, name)\n",
    "    print(metrics)\n",
    "    results.append(metrics)\n",
    "   \n",
    "results_df = pd.DataFrame(results)\n",
    "results_df"
   ]
  },
  {
   "cell_type": "markdown",
   "id": "960b65bc",
   "metadata": {},
   "source": [
    "## 5️ Part C — Comparative Analysis"
   ]
  },
  {
   "cell_type": "markdown",
   "id": "89e62ad0-7a85-4a33-b7ad-16ea8b67f2f9",
   "metadata": {},
   "source": [
    "### Why Take Difference from Minimum?\n",
    "\n",
    "When comparing performance metrics (Accuracy, Precision, Recall, F1) across multiple strategies, the absolute values are very close. So, a normal bar plot does **not visually highlight the small differences**.  \n",
    "\n",
    "To make the differences clearer, we compute the **difference from the minimum value** for each metric:\n"
   ]
  },
  {
   "cell_type": "code",
   "execution_count": 49,
   "id": "a908f59f-a929-4ea8-b2a4-9567285119b6",
   "metadata": {},
   "outputs": [
    {
     "data": {
      "image/png": "[encoded data removed]",
      "text/plain": [
       "<Figure size 1000x600 with 1 Axes>"
      ]
     },
     "metadata": {},
     "output_type": "display_data"
    }
   ],
   "source": [
    "delta_df = results_df - results_df.min()\n",
    "\n",
    "ax = delta_df.plot(kind='barh', figsize=(10,6), colormap='viridis')\n",
    "plt.title(\"Difference from Worst Score (Higher is Better)\")\n",
    "plt.xlabel(\"Score Difference from Minimum\")\n",
    "plt.grid(True, axis='x', linestyle='--', alpha=0.6)\n",
    "\n",
    "for i, row in enumerate(delta_df.values):\n",
    "    for j, val in enumerate(row):\n",
    "        ax.text(val + 0.0005, i + j*0.2 - 0.3, f\"{results_df.values[i,j]:.3f}\", fontsize=9)\n",
    "\n",
    "plt.show()"
   ]
  },
  {
   "cell_type": "markdown",
   "id": "180b8ab2",
   "metadata": {},
   "source": [
    "### Discussion\n",
    "\n",
    "Looking at the results, all four models perform quite closely in terms of accuracy, around 80%.  \n",
    "But when we focus on the F1-score and recall — which reflect how well the model identifies default cases — some key differences appear.\n",
    "\n",
    "- **Dataset A (Median Imputation)** works as a solid baseline. Even though it’s a simple approach, using the median gives fairly balanced results because it isn’t affected by extreme values or outliers.  \n",
    "- **Dataset B (Linear Regression Imputation)** performs slightly better than the median approach. This makes sense — the regression model uses relationships among the features to estimate the missing `AGE` values, instead of just replacing them with a single statistic.  \n",
    "- **Dataset C (KNN Imputation)** gives the highest F1-score, though only by a small margin. This suggests that the relationship between `AGE` and other variables might not be purely linear — KNN can capture subtle, non-linear trends that the linear model misses.  \n",
    "- **Dataset D (Listwise Deletion)** performs the weakest, especially in recall. By removing all rows with missing data, we lose valuable information and end up training on a smaller, less representative dataset.\n",
    "\n",
    "Overall, regression-based imputations (both linear and KNN) give slightly better performance because they use more information from the data to make informed guesses.  \n",
    "The difference may look small in numbers, but it’s conceptually important — it shows how learning the structure of the data, rather than just filling gaps blindly, can improve model reliability.\n",
    "\n",
    "**In summary:**  \n",
    "If time and resources allow, regression-based imputation — especially non-linear methods like KNN — should be preferred.  \n",
    "Median imputation remains a quick and robust choice for large datasets or early-stage experiments.  \n",
    "Listwise deletion, however, should generally be avoided since it reduces data and weakens model generalization.\n"
   ]
  },
  {
   "cell_type": "code",
   "execution_count": null,
   "id": "645e48f6-df49-47de-b4d1-8cca62875546",
   "metadata": {},
   "outputs": [],
   "source": []
  }
 ],
 "metadata": {
  "kernelspec": {
   "display_name": "Python 3 (ipykernel)",
   "language": "python",
   "name": "python3"
  },
  "language_info": {
   "codemirror_mode": {
    "name": "ipython",
    "version": 3
   },
   "file_extension": ".py",
   "mimetype": "text/x-python",
   "name": "python",
   "nbconvert_exporter": "python",
   "pygments_lexer": "ipython3",
   "version": "3.12.3"
  }
 },
 "nbformat": 4,
 "nbformat_minor": 5
}
